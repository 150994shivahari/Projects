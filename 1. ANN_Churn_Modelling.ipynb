{
 "cells": [
  {
   "cell_type": "markdown",
   "metadata": {},
   "source": [
    "\n",
    "# Artificial Neural Network:"
   ]
  },
  {
   "cell_type": "code",
   "execution_count": 1,
   "metadata": {},
   "outputs": [],
   "source": [
    "# Importing the libraries\n",
    "import numpy as np\n",
    "import matplotlib.pyplot as plt\n",
    "import pandas as pd"
   ]
  },
  {
   "cell_type": "code",
   "execution_count": 2,
   "metadata": {},
   "outputs": [],
   "source": [
    "# Importing the dataset\n",
    "dataset = pd.read_csv('Churn_Modelling.csv')\n",
    "X = dataset.iloc[:, 3:13]\n",
    "y = dataset.iloc[:, 13]"
   ]
  },
  {
   "cell_type": "code",
   "execution_count": 3,
   "metadata": {},
   "outputs": [
    {
     "data": {
      "text/html": [
       "<div>\n",
       "<style scoped>\n",
       "    .dataframe tbody tr th:only-of-type {\n",
       "        vertical-align: middle;\n",
       "    }\n",
       "\n",
       "    .dataframe tbody tr th {\n",
       "        vertical-align: top;\n",
       "    }\n",
       "\n",
       "    .dataframe thead th {\n",
       "        text-align: right;\n",
       "    }\n",
       "</style>\n",
       "<table border=\"1\" class=\"dataframe\">\n",
       "  <thead>\n",
       "    <tr style=\"text-align: right;\">\n",
       "      <th></th>\n",
       "      <th>RowNumber</th>\n",
       "      <th>CustomerId</th>\n",
       "      <th>Surname</th>\n",
       "      <th>CreditScore</th>\n",
       "      <th>Geography</th>\n",
       "      <th>Gender</th>\n",
       "      <th>Age</th>\n",
       "      <th>Tenure</th>\n",
       "      <th>Balance</th>\n",
       "      <th>NumOfProducts</th>\n",
       "      <th>HasCrCard</th>\n",
       "      <th>IsActiveMember</th>\n",
       "      <th>EstimatedSalary</th>\n",
       "      <th>Exited</th>\n",
       "    </tr>\n",
       "  </thead>\n",
       "  <tbody>\n",
       "    <tr>\n",
       "      <th>0</th>\n",
       "      <td>1</td>\n",
       "      <td>15634602</td>\n",
       "      <td>Hargrave</td>\n",
       "      <td>619</td>\n",
       "      <td>France</td>\n",
       "      <td>Female</td>\n",
       "      <td>42</td>\n",
       "      <td>2</td>\n",
       "      <td>0.00</td>\n",
       "      <td>1</td>\n",
       "      <td>1</td>\n",
       "      <td>1</td>\n",
       "      <td>101348.88</td>\n",
       "      <td>1</td>\n",
       "    </tr>\n",
       "    <tr>\n",
       "      <th>1</th>\n",
       "      <td>2</td>\n",
       "      <td>15647311</td>\n",
       "      <td>Hill</td>\n",
       "      <td>608</td>\n",
       "      <td>Spain</td>\n",
       "      <td>Female</td>\n",
       "      <td>41</td>\n",
       "      <td>1</td>\n",
       "      <td>83807.86</td>\n",
       "      <td>1</td>\n",
       "      <td>0</td>\n",
       "      <td>1</td>\n",
       "      <td>112542.58</td>\n",
       "      <td>0</td>\n",
       "    </tr>\n",
       "    <tr>\n",
       "      <th>2</th>\n",
       "      <td>3</td>\n",
       "      <td>15619304</td>\n",
       "      <td>Onio</td>\n",
       "      <td>502</td>\n",
       "      <td>France</td>\n",
       "      <td>Female</td>\n",
       "      <td>42</td>\n",
       "      <td>8</td>\n",
       "      <td>159660.80</td>\n",
       "      <td>3</td>\n",
       "      <td>1</td>\n",
       "      <td>0</td>\n",
       "      <td>113931.57</td>\n",
       "      <td>1</td>\n",
       "    </tr>\n",
       "    <tr>\n",
       "      <th>3</th>\n",
       "      <td>4</td>\n",
       "      <td>15701354</td>\n",
       "      <td>Boni</td>\n",
       "      <td>699</td>\n",
       "      <td>France</td>\n",
       "      <td>Female</td>\n",
       "      <td>39</td>\n",
       "      <td>1</td>\n",
       "      <td>0.00</td>\n",
       "      <td>2</td>\n",
       "      <td>0</td>\n",
       "      <td>0</td>\n",
       "      <td>93826.63</td>\n",
       "      <td>0</td>\n",
       "    </tr>\n",
       "    <tr>\n",
       "      <th>4</th>\n",
       "      <td>5</td>\n",
       "      <td>15737888</td>\n",
       "      <td>Mitchell</td>\n",
       "      <td>850</td>\n",
       "      <td>Spain</td>\n",
       "      <td>Female</td>\n",
       "      <td>43</td>\n",
       "      <td>2</td>\n",
       "      <td>125510.82</td>\n",
       "      <td>1</td>\n",
       "      <td>1</td>\n",
       "      <td>1</td>\n",
       "      <td>79084.10</td>\n",
       "      <td>0</td>\n",
       "    </tr>\n",
       "  </tbody>\n",
       "</table>\n",
       "</div>"
      ],
      "text/plain": [
       "   RowNumber  CustomerId   Surname  CreditScore Geography  Gender  Age  \\\n",
       "0          1    15634602  Hargrave          619    France  Female   42   \n",
       "1          2    15647311      Hill          608     Spain  Female   41   \n",
       "2          3    15619304      Onio          502    France  Female   42   \n",
       "3          4    15701354      Boni          699    France  Female   39   \n",
       "4          5    15737888  Mitchell          850     Spain  Female   43   \n",
       "\n",
       "   Tenure    Balance  NumOfProducts  HasCrCard  IsActiveMember  \\\n",
       "0       2       0.00              1          1               1   \n",
       "1       1   83807.86              1          0               1   \n",
       "2       8  159660.80              3          1               0   \n",
       "3       1       0.00              2          0               0   \n",
       "4       2  125510.82              1          1               1   \n",
       "\n",
       "   EstimatedSalary  Exited  \n",
       "0        101348.88       1  \n",
       "1        112542.58       0  \n",
       "2        113931.57       1  \n",
       "3         93826.63       0  \n",
       "4         79084.10       0  "
      ]
     },
     "execution_count": 3,
     "metadata": {},
     "output_type": "execute_result"
    }
   ],
   "source": [
    "dataset.head()"
   ]
  },
  {
   "cell_type": "code",
   "execution_count": 4,
   "metadata": {},
   "outputs": [],
   "source": [
    "#Create dummy variables\n",
    "geography=pd.get_dummies(X[\"Geography\"],drop_first=True)\n",
    "gender=pd.get_dummies(X['Gender'],drop_first=True)"
   ]
  },
  {
   "cell_type": "code",
   "execution_count": 5,
   "metadata": {},
   "outputs": [],
   "source": [
    "## Concatenate the Data Frames\n",
    "\n",
    "X=pd.concat([X,geography,gender],axis=1)\n",
    "\n",
    "## Drop Unnecessary columns\n",
    "X=X.drop(['Geography','Gender'],axis=1)"
   ]
  },
  {
   "cell_type": "code",
   "execution_count": 6,
   "metadata": {},
   "outputs": [
    {
     "data": {
      "text/html": [
       "<div>\n",
       "<style scoped>\n",
       "    .dataframe tbody tr th:only-of-type {\n",
       "        vertical-align: middle;\n",
       "    }\n",
       "\n",
       "    .dataframe tbody tr th {\n",
       "        vertical-align: top;\n",
       "    }\n",
       "\n",
       "    .dataframe thead th {\n",
       "        text-align: right;\n",
       "    }\n",
       "</style>\n",
       "<table border=\"1\" class=\"dataframe\">\n",
       "  <thead>\n",
       "    <tr style=\"text-align: right;\">\n",
       "      <th></th>\n",
       "      <th>CreditScore</th>\n",
       "      <th>Age</th>\n",
       "      <th>Tenure</th>\n",
       "      <th>Balance</th>\n",
       "      <th>NumOfProducts</th>\n",
       "      <th>HasCrCard</th>\n",
       "      <th>IsActiveMember</th>\n",
       "      <th>EstimatedSalary</th>\n",
       "      <th>Germany</th>\n",
       "      <th>Spain</th>\n",
       "      <th>Male</th>\n",
       "    </tr>\n",
       "  </thead>\n",
       "  <tbody>\n",
       "    <tr>\n",
       "      <th>0</th>\n",
       "      <td>619</td>\n",
       "      <td>42</td>\n",
       "      <td>2</td>\n",
       "      <td>0.00</td>\n",
       "      <td>1</td>\n",
       "      <td>1</td>\n",
       "      <td>1</td>\n",
       "      <td>101348.88</td>\n",
       "      <td>0</td>\n",
       "      <td>0</td>\n",
       "      <td>0</td>\n",
       "    </tr>\n",
       "    <tr>\n",
       "      <th>1</th>\n",
       "      <td>608</td>\n",
       "      <td>41</td>\n",
       "      <td>1</td>\n",
       "      <td>83807.86</td>\n",
       "      <td>1</td>\n",
       "      <td>0</td>\n",
       "      <td>1</td>\n",
       "      <td>112542.58</td>\n",
       "      <td>0</td>\n",
       "      <td>1</td>\n",
       "      <td>0</td>\n",
       "    </tr>\n",
       "    <tr>\n",
       "      <th>2</th>\n",
       "      <td>502</td>\n",
       "      <td>42</td>\n",
       "      <td>8</td>\n",
       "      <td>159660.80</td>\n",
       "      <td>3</td>\n",
       "      <td>1</td>\n",
       "      <td>0</td>\n",
       "      <td>113931.57</td>\n",
       "      <td>0</td>\n",
       "      <td>0</td>\n",
       "      <td>0</td>\n",
       "    </tr>\n",
       "    <tr>\n",
       "      <th>3</th>\n",
       "      <td>699</td>\n",
       "      <td>39</td>\n",
       "      <td>1</td>\n",
       "      <td>0.00</td>\n",
       "      <td>2</td>\n",
       "      <td>0</td>\n",
       "      <td>0</td>\n",
       "      <td>93826.63</td>\n",
       "      <td>0</td>\n",
       "      <td>0</td>\n",
       "      <td>0</td>\n",
       "    </tr>\n",
       "    <tr>\n",
       "      <th>4</th>\n",
       "      <td>850</td>\n",
       "      <td>43</td>\n",
       "      <td>2</td>\n",
       "      <td>125510.82</td>\n",
       "      <td>1</td>\n",
       "      <td>1</td>\n",
       "      <td>1</td>\n",
       "      <td>79084.10</td>\n",
       "      <td>0</td>\n",
       "      <td>1</td>\n",
       "      <td>0</td>\n",
       "    </tr>\n",
       "  </tbody>\n",
       "</table>\n",
       "</div>"
      ],
      "text/plain": [
       "   CreditScore  Age  Tenure    Balance  NumOfProducts  HasCrCard  \\\n",
       "0          619   42       2       0.00              1          1   \n",
       "1          608   41       1   83807.86              1          0   \n",
       "2          502   42       8  159660.80              3          1   \n",
       "3          699   39       1       0.00              2          0   \n",
       "4          850   43       2  125510.82              1          1   \n",
       "\n",
       "   IsActiveMember  EstimatedSalary  Germany  Spain  Male  \n",
       "0               1        101348.88        0      0     0  \n",
       "1               1        112542.58        0      1     0  \n",
       "2               0        113931.57        0      0     0  \n",
       "3               0         93826.63        0      0     0  \n",
       "4               1         79084.10        0      1     0  "
      ]
     },
     "execution_count": 6,
     "metadata": {},
     "output_type": "execute_result"
    }
   ],
   "source": [
    "X.head()"
   ]
  },
  {
   "cell_type": "code",
   "execution_count": 7,
   "metadata": {},
   "outputs": [],
   "source": [
    "# Splitting the dataset into the Training set and Test set\n",
    "from sklearn.model_selection import train_test_split\n",
    "X_train, X_test, y_train, y_test = train_test_split(X, y, test_size = 0.2, random_state = 0)\n"
   ]
  },
  {
   "cell_type": "code",
   "execution_count": 8,
   "metadata": {},
   "outputs": [],
   "source": [
    "# Feature Scaling\n",
    "from sklearn.preprocessing import StandardScaler\n",
    "sc = StandardScaler()\n",
    "X_train = sc.fit_transform(X_train)\n",
    "X_test = sc.transform(X_test)"
   ]
  },
  {
   "cell_type": "code",
   "execution_count": 9,
   "metadata": {},
   "outputs": [
    {
     "name": "stderr",
     "output_type": "stream",
     "text": [
      "Using TensorFlow backend.\n"
     ]
    }
   ],
   "source": [
    "# Part 2 - Now let's make the ANN!\n",
    "\n",
    "# Importing the Keras libraries and packages\n",
    "import keras\n",
    "from keras.models import Sequential\n",
    "from keras.layers import Dense\n",
    "from keras.layers import LeakyReLU,PReLU,ELU\n",
    "from keras.layers import Dropout"
   ]
  },
  {
   "cell_type": "code",
   "execution_count": 10,
   "metadata": {},
   "outputs": [],
   "source": [
    "# Initialising the ANN\n",
    "classifier = Sequential() # This creates an empty nural network "
   ]
  },
  {
   "cell_type": "code",
   "execution_count": 11,
   "metadata": {},
   "outputs": [],
   "source": [
    "# Adding the input layer and the first hidden layer\n",
    "classifier.add(Dense(units = 6, kernel_initializer = 'he_uniform',activation='relu',input_dim = 11))\n"
   ]
  },
  {
   "cell_type": "code",
   "execution_count": 12,
   "metadata": {},
   "outputs": [],
   "source": [
    "# Adding the second hidden layer\n",
    "classifier.add(Dense(units = 6, kernel_initializer = 'he_uniform',activation='relu'))\n"
   ]
  },
  {
   "cell_type": "code",
   "execution_count": 13,
   "metadata": {},
   "outputs": [],
   "source": [
    "# Adding the output layer\n",
    "classifier.add(Dense(units = 1, kernel_initializer = 'glorot_uniform', activation = 'sigmoid'))\n",
    "\n"
   ]
  },
  {
   "cell_type": "code",
   "execution_count": 14,
   "metadata": {},
   "outputs": [
    {
     "name": "stdout",
     "output_type": "stream",
     "text": [
      "WARNING:tensorflow:From C:\\Users\\venka\\Anaconda3\\lib\\site-packages\\tensorflow\\python\\ops\\nn_impl.py:180: add_dispatch_support.<locals>.wrapper (from tensorflow.python.ops.array_ops) is deprecated and will be removed in a future version.\n",
      "Instructions for updating:\n",
      "Use tf.where in 2.0, which has the same broadcast rule as np.where\n"
     ]
    }
   ],
   "source": [
    "# Compiling the ANN\n",
    "classifier.compile(optimizer = 'Adamax', loss = 'binary_crossentropy', metrics = ['accuracy'])\n",
    "\n"
   ]
  },
  {
   "cell_type": "code",
   "execution_count": 15,
   "metadata": {},
   "outputs": [
    {
     "name": "stdout",
     "output_type": "stream",
     "text": [
      "Model: \"sequential_1\"\n",
      "_________________________________________________________________\n",
      "Layer (type)                 Output Shape              Param #   \n",
      "=================================================================\n",
      "dense_1 (Dense)              (None, 6)                 72        \n",
      "_________________________________________________________________\n",
      "dense_2 (Dense)              (None, 6)                 42        \n",
      "_________________________________________________________________\n",
      "dense_3 (Dense)              (None, 1)                 7         \n",
      "=================================================================\n",
      "Total params: 121\n",
      "Trainable params: 121\n",
      "Non-trainable params: 0\n",
      "_________________________________________________________________\n"
     ]
    }
   ],
   "source": [
    "classifier.summary()"
   ]
  },
  {
   "cell_type": "code",
   "execution_count": 16,
   "metadata": {},
   "outputs": [
    {
     "name": "stderr",
     "output_type": "stream",
     "text": [
      "C:\\Users\\venka\\Anaconda3\\lib\\site-packages\\ipykernel_launcher.py:2: UserWarning: The `nb_epoch` argument in `fit` has been renamed `epochs`.\n",
      "  \n"
     ]
    },
    {
     "name": "stdout",
     "output_type": "stream",
     "text": [
      "WARNING:tensorflow:From C:\\Users\\venka\\Anaconda3\\lib\\site-packages\\keras\\backend\\tensorflow_backend.py:422: The name tf.global_variables is deprecated. Please use tf.compat.v1.global_variables instead.\n",
      "\n",
      "Train on 5359 samples, validate on 2641 samples\n",
      "Epoch 1/100\n",
      "5359/5359 [==============================] - 1s 110us/step - loss: 0.7885 - accuracy: 0.5850 - val_loss: 0.5240 - val_accuracy: 0.7955\n",
      "Epoch 2/100\n",
      "5359/5359 [==============================] - 0s 80us/step - loss: 0.4879 - accuracy: 0.8005 - val_loss: 0.4612 - val_accuracy: 0.8076\n",
      "Epoch 3/100\n",
      "5359/5359 [==============================] - 0s 74us/step - loss: 0.4514 - accuracy: 0.8078 - val_loss: 0.4434 - val_accuracy: 0.8107\n",
      "Epoch 4/100\n",
      "5359/5359 [==============================] - 0s 80us/step - loss: 0.4315 - accuracy: 0.8123 - val_loss: 0.4282 - val_accuracy: 0.8160\n",
      "Epoch 5/100\n",
      "5359/5359 [==============================] - 0s 73us/step - loss: 0.4140 - accuracy: 0.8220 - val_loss: 0.4172 - val_accuracy: 0.8232\n",
      "Epoch 6/100\n",
      "5359/5359 [==============================] - 0s 82us/step - loss: 0.3995 - accuracy: 0.8343 - val_loss: 0.4079 - val_accuracy: 0.8266\n",
      "Epoch 7/100\n",
      "5359/5359 [==============================] - 0s 73us/step - loss: 0.3888 - accuracy: 0.8386 - val_loss: 0.4015 - val_accuracy: 0.8326\n",
      "Epoch 8/100\n",
      "5359/5359 [==============================] - 0s 80us/step - loss: 0.3811 - accuracy: 0.8423 - val_loss: 0.3967 - val_accuracy: 0.8368\n",
      "Epoch 9/100\n",
      "5359/5359 [==============================] - 0s 81us/step - loss: 0.3754 - accuracy: 0.8440 - val_loss: 0.3935 - val_accuracy: 0.8372\n",
      "Epoch 10/100\n",
      "5359/5359 [==============================] - 0s 73us/step - loss: 0.3712 - accuracy: 0.8472 - val_loss: 0.3904 - val_accuracy: 0.8387\n",
      "Epoch 11/100\n",
      "5359/5359 [==============================] - 0s 81us/step - loss: 0.3679 - accuracy: 0.8468 - val_loss: 0.3888 - val_accuracy: 0.8383\n",
      "Epoch 12/100\n",
      "5359/5359 [==============================] - 0s 73us/step - loss: 0.3653 - accuracy: 0.8474 - val_loss: 0.3865 - val_accuracy: 0.8425\n",
      "Epoch 13/100\n",
      "5359/5359 [==============================] - 0s 74us/step - loss: 0.3627 - accuracy: 0.8470 - val_loss: 0.3861 - val_accuracy: 0.8417\n",
      "Epoch 14/100\n",
      "5359/5359 [==============================] - 0s 79us/step - loss: 0.3609 - accuracy: 0.8487 - val_loss: 0.3848 - val_accuracy: 0.8425\n",
      "Epoch 15/100\n",
      "5359/5359 [==============================] - 0s 75us/step - loss: 0.3595 - accuracy: 0.8483 - val_loss: 0.3835 - val_accuracy: 0.8429\n",
      "Epoch 16/100\n",
      "5359/5359 [==============================] - 0s 81us/step - loss: 0.3580 - accuracy: 0.8496 - val_loss: 0.3827 - val_accuracy: 0.8417\n",
      "Epoch 17/100\n",
      "5359/5359 [==============================] - 0s 82us/step - loss: 0.3566 - accuracy: 0.8481 - val_loss: 0.3818 - val_accuracy: 0.8429\n",
      "Epoch 18/100\n",
      "5359/5359 [==============================] - 0s 85us/step - loss: 0.3551 - accuracy: 0.8515 - val_loss: 0.3818 - val_accuracy: 0.8429\n",
      "Epoch 19/100\n",
      "5359/5359 [==============================] - 0s 74us/step - loss: 0.3543 - accuracy: 0.8517 - val_loss: 0.3813 - val_accuracy: 0.8444\n",
      "Epoch 20/100\n",
      "5359/5359 [==============================] - 0s 82us/step - loss: 0.3533 - accuracy: 0.8524 - val_loss: 0.3800 - val_accuracy: 0.8440\n",
      "Epoch 21/100\n",
      "5359/5359 [==============================] - 0s 83us/step - loss: 0.3522 - accuracy: 0.8535 - val_loss: 0.3789 - val_accuracy: 0.8448\n",
      "Epoch 22/100\n",
      "5359/5359 [==============================] - 0s 75us/step - loss: 0.3510 - accuracy: 0.8546 - val_loss: 0.3795 - val_accuracy: 0.8463\n",
      "Epoch 23/100\n",
      "5359/5359 [==============================] - 0s 76us/step - loss: 0.3498 - accuracy: 0.8535 - val_loss: 0.3792 - val_accuracy: 0.8436\n",
      "Epoch 24/100\n",
      "5359/5359 [==============================] - 0s 74us/step - loss: 0.3492 - accuracy: 0.8524 - val_loss: 0.3783 - val_accuracy: 0.8466\n",
      "Epoch 25/100\n",
      "5359/5359 [==============================] - 0s 76us/step - loss: 0.3483 - accuracy: 0.8550 - val_loss: 0.3781 - val_accuracy: 0.8432\n",
      "Epoch 26/100\n",
      "5359/5359 [==============================] - 0s 75us/step - loss: 0.3477 - accuracy: 0.8558 - val_loss: 0.3765 - val_accuracy: 0.8463\n",
      "Epoch 27/100\n",
      "5359/5359 [==============================] - 0s 75us/step - loss: 0.3469 - accuracy: 0.8552 - val_loss: 0.3769 - val_accuracy: 0.8429\n",
      "Epoch 28/100\n",
      "5359/5359 [==============================] - 0s 78us/step - loss: 0.3463 - accuracy: 0.8572 - val_loss: 0.3761 - val_accuracy: 0.8440\n",
      "Epoch 29/100\n",
      "5359/5359 [==============================] - 0s 81us/step - loss: 0.3457 - accuracy: 0.8565 - val_loss: 0.3762 - val_accuracy: 0.8448\n",
      "Epoch 30/100\n",
      "5359/5359 [==============================] - 0s 80us/step - loss: 0.3450 - accuracy: 0.8569 - val_loss: 0.3755 - val_accuracy: 0.8444\n",
      "Epoch 31/100\n",
      "5359/5359 [==============================] - 0s 88us/step - loss: 0.3448 - accuracy: 0.8567 - val_loss: 0.3748 - val_accuracy: 0.8455\n",
      "Epoch 32/100\n",
      "5359/5359 [==============================] - 0s 75us/step - loss: 0.3440 - accuracy: 0.8580 - val_loss: 0.3742 - val_accuracy: 0.8455\n",
      "Epoch 33/100\n",
      "5359/5359 [==============================] - 0s 75us/step - loss: 0.3432 - accuracy: 0.8587 - val_loss: 0.3738 - val_accuracy: 0.8459\n",
      "Epoch 34/100\n",
      "5359/5359 [==============================] - 0s 78us/step - loss: 0.3428 - accuracy: 0.8587 - val_loss: 0.3736 - val_accuracy: 0.8448\n",
      "Epoch 35/100\n",
      "5359/5359 [==============================] - 0s 79us/step - loss: 0.3419 - accuracy: 0.8604 - val_loss: 0.3730 - val_accuracy: 0.8440\n",
      "Epoch 36/100\n",
      "5359/5359 [==============================] - 0s 81us/step - loss: 0.3415 - accuracy: 0.8591 - val_loss: 0.3722 - val_accuracy: 0.8440\n",
      "Epoch 37/100\n",
      "5359/5359 [==============================] - 0s 78us/step - loss: 0.3412 - accuracy: 0.8615 - val_loss: 0.3714 - val_accuracy: 0.8463\n",
      "Epoch 38/100\n",
      "5359/5359 [==============================] - 0s 81us/step - loss: 0.3406 - accuracy: 0.8593 - val_loss: 0.3708 - val_accuracy: 0.8444\n",
      "Epoch 39/100\n",
      "5359/5359 [==============================] - 0s 73us/step - loss: 0.3399 - accuracy: 0.8614 - val_loss: 0.3696 - val_accuracy: 0.8448\n",
      "Epoch 40/100\n",
      "5359/5359 [==============================] - ETA: 0s - loss: 0.3364 - accuracy: 0.86 - 0s 74us/step - loss: 0.3396 - accuracy: 0.8608 - val_loss: 0.3694 - val_accuracy: 0.8448\n",
      "Epoch 41/100\n",
      "5359/5359 [==============================] - 0s 73us/step - loss: 0.3391 - accuracy: 0.8615 - val_loss: 0.3691 - val_accuracy: 0.8455\n",
      "Epoch 42/100\n",
      "5359/5359 [==============================] - ETA: 0s - loss: 0.3408 - accuracy: 0.86 - 0s 73us/step - loss: 0.3388 - accuracy: 0.8614 - val_loss: 0.3692 - val_accuracy: 0.8436\n",
      "Epoch 43/100\n",
      "5359/5359 [==============================] - 0s 84us/step - loss: 0.3385 - accuracy: 0.8599 - val_loss: 0.3687 - val_accuracy: 0.8448\n",
      "Epoch 44/100\n",
      "5359/5359 [==============================] - 0s 72us/step - loss: 0.3383 - accuracy: 0.8619 - val_loss: 0.3683 - val_accuracy: 0.8448\n",
      "Epoch 45/100\n",
      "5359/5359 [==============================] - 0s 77us/step - loss: 0.3379 - accuracy: 0.8600 - val_loss: 0.3699 - val_accuracy: 0.8459\n",
      "Epoch 46/100\n",
      "5359/5359 [==============================] - 0s 79us/step - loss: 0.3379 - accuracy: 0.8606 - val_loss: 0.3682 - val_accuracy: 0.8451\n",
      "Epoch 47/100\n",
      "5359/5359 [==============================] - 0s 75us/step - loss: 0.3377 - accuracy: 0.8597 - val_loss: 0.3682 - val_accuracy: 0.8455\n",
      "Epoch 48/100\n",
      "5359/5359 [==============================] - 0s 74us/step - loss: 0.3371 - accuracy: 0.8608 - val_loss: 0.3672 - val_accuracy: 0.8448\n",
      "Epoch 49/100\n",
      "5359/5359 [==============================] - 0s 74us/step - loss: 0.3368 - accuracy: 0.8612 - val_loss: 0.3672 - val_accuracy: 0.8444\n",
      "Epoch 50/100\n",
      "5359/5359 [==============================] - 0s 77us/step - loss: 0.3367 - accuracy: 0.8612 - val_loss: 0.3672 - val_accuracy: 0.8455\n",
      "Epoch 51/100\n",
      "5359/5359 [==============================] - 0s 75us/step - loss: 0.3362 - accuracy: 0.8614 - val_loss: 0.3668 - val_accuracy: 0.8455\n",
      "Epoch 52/100\n",
      "5359/5359 [==============================] - 0s 74us/step - loss: 0.3360 - accuracy: 0.8623 - val_loss: 0.3672 - val_accuracy: 0.8466\n",
      "Epoch 53/100\n",
      "5359/5359 [==============================] - 0s 77us/step - loss: 0.3355 - accuracy: 0.8615 - val_loss: 0.3676 - val_accuracy: 0.8482\n",
      "Epoch 54/100\n"
     ]
    },
    {
     "name": "stdout",
     "output_type": "stream",
     "text": [
      "5359/5359 [==============================] - 0s 74us/step - loss: 0.3356 - accuracy: 0.8591 - val_loss: 0.3668 - val_accuracy: 0.8459\n",
      "Epoch 55/100\n",
      "5359/5359 [==============================] - 0s 77us/step - loss: 0.3354 - accuracy: 0.8612 - val_loss: 0.3665 - val_accuracy: 0.8459\n",
      "Epoch 56/100\n",
      "5359/5359 [==============================] - 0s 85us/step - loss: 0.3350 - accuracy: 0.8623 - val_loss: 0.3662 - val_accuracy: 0.8463\n",
      "Epoch 57/100\n",
      "5359/5359 [==============================] - 0s 78us/step - loss: 0.3351 - accuracy: 0.8604 - val_loss: 0.3668 - val_accuracy: 0.8470\n",
      "Epoch 58/100\n",
      "5359/5359 [==============================] - 0s 74us/step - loss: 0.3346 - accuracy: 0.8597 - val_loss: 0.3651 - val_accuracy: 0.8463\n",
      "Epoch 59/100\n",
      "5359/5359 [==============================] - 0s 75us/step - loss: 0.3345 - accuracy: 0.8610 - val_loss: 0.3654 - val_accuracy: 0.8478\n",
      "Epoch 60/100\n",
      "5359/5359 [==============================] - 0s 74us/step - loss: 0.3343 - accuracy: 0.8608 - val_loss: 0.3646 - val_accuracy: 0.8482\n",
      "Epoch 61/100\n",
      "5359/5359 [==============================] - 0s 80us/step - loss: 0.3339 - accuracy: 0.8608 - val_loss: 0.3641 - val_accuracy: 0.8478\n",
      "Epoch 62/100\n",
      "5359/5359 [==============================] - 0s 74us/step - loss: 0.3338 - accuracy: 0.8602 - val_loss: 0.3646 - val_accuracy: 0.8478\n",
      "Epoch 63/100\n",
      "5359/5359 [==============================] - 0s 75us/step - loss: 0.3336 - accuracy: 0.8604 - val_loss: 0.3638 - val_accuracy: 0.8463\n",
      "Epoch 64/100\n",
      "5359/5359 [==============================] - 0s 76us/step - loss: 0.3331 - accuracy: 0.8597 - val_loss: 0.3640 - val_accuracy: 0.8497\n",
      "Epoch 65/100\n",
      "5359/5359 [==============================] - 0s 75us/step - loss: 0.3330 - accuracy: 0.8610 - val_loss: 0.3627 - val_accuracy: 0.8523\n",
      "Epoch 66/100\n",
      "5359/5359 [==============================] - ETA: 0s - loss: 0.3378 - accuracy: 0.86 - 0s 75us/step - loss: 0.3329 - accuracy: 0.8614 - val_loss: 0.3632 - val_accuracy: 0.8508\n",
      "Epoch 67/100\n",
      "5359/5359 [==============================] - 0s 74us/step - loss: 0.3327 - accuracy: 0.8614 - val_loss: 0.3630 - val_accuracy: 0.8516\n",
      "Epoch 68/100\n",
      "5359/5359 [==============================] - 0s 74us/step - loss: 0.3325 - accuracy: 0.8615 - val_loss: 0.3625 - val_accuracy: 0.8512\n",
      "Epoch 69/100\n",
      "5359/5359 [==============================] - 0s 82us/step - loss: 0.3327 - accuracy: 0.8615 - val_loss: 0.3627 - val_accuracy: 0.8508\n",
      "Epoch 70/100\n",
      "5359/5359 [==============================] - 0s 74us/step - loss: 0.3323 - accuracy: 0.8628 - val_loss: 0.3625 - val_accuracy: 0.8497\n",
      "Epoch 71/100\n",
      "5359/5359 [==============================] - 0s 76us/step - loss: 0.3320 - accuracy: 0.8621 - val_loss: 0.3617 - val_accuracy: 0.8504\n",
      "Epoch 72/100\n",
      "5359/5359 [==============================] - 0s 79us/step - loss: 0.3320 - accuracy: 0.8617 - val_loss: 0.3619 - val_accuracy: 0.8501\n",
      "Epoch 73/100\n",
      "5359/5359 [==============================] - 0s 75us/step - loss: 0.3319 - accuracy: 0.8628 - val_loss: 0.3620 - val_accuracy: 0.8508\n",
      "Epoch 74/100\n",
      "5359/5359 [==============================] - 0s 76us/step - loss: 0.3314 - accuracy: 0.8615 - val_loss: 0.3621 - val_accuracy: 0.8519\n",
      "Epoch 75/100\n",
      "5359/5359 [==============================] - 0s 77us/step - loss: 0.3309 - accuracy: 0.8612 - val_loss: 0.3626 - val_accuracy: 0.8527\n",
      "Epoch 76/100\n",
      "5359/5359 [==============================] - 0s 76us/step - loss: 0.3317 - accuracy: 0.8617 - val_loss: 0.3620 - val_accuracy: 0.8523\n",
      "Epoch 77/100\n",
      "5359/5359 [==============================] - 0s 77us/step - loss: 0.3310 - accuracy: 0.8632 - val_loss: 0.3620 - val_accuracy: 0.8538\n",
      "Epoch 78/100\n",
      "5359/5359 [==============================] - 0s 77us/step - loss: 0.3313 - accuracy: 0.8623 - val_loss: 0.3612 - val_accuracy: 0.8512\n",
      "Epoch 79/100\n",
      "5359/5359 [==============================] - 0s 78us/step - loss: 0.3308 - accuracy: 0.8621 - val_loss: 0.3606 - val_accuracy: 0.8531\n",
      "Epoch 80/100\n",
      "5359/5359 [==============================] - 0s 78us/step - loss: 0.3308 - accuracy: 0.8642 - val_loss: 0.3607 - val_accuracy: 0.8519\n",
      "Epoch 81/100\n",
      "5359/5359 [==============================] - 0s 84us/step - loss: 0.3304 - accuracy: 0.8632 - val_loss: 0.3611 - val_accuracy: 0.8527\n",
      "Epoch 82/100\n",
      "5359/5359 [==============================] - 0s 79us/step - loss: 0.3308 - accuracy: 0.8628 - val_loss: 0.3605 - val_accuracy: 0.8542\n",
      "Epoch 83/100\n",
      "5359/5359 [==============================] - 0s 80us/step - loss: 0.3302 - accuracy: 0.8636 - val_loss: 0.3600 - val_accuracy: 0.8546\n",
      "Epoch 84/100\n",
      "5359/5359 [==============================] - 0s 79us/step - loss: 0.3303 - accuracy: 0.8638 - val_loss: 0.3594 - val_accuracy: 0.8542\n",
      "Epoch 85/100\n",
      "5359/5359 [==============================] - 0s 83us/step - loss: 0.3300 - accuracy: 0.8634 - val_loss: 0.3609 - val_accuracy: 0.8550\n",
      "Epoch 86/100\n",
      "5359/5359 [==============================] - 0s 80us/step - loss: 0.3301 - accuracy: 0.8634 - val_loss: 0.3596 - val_accuracy: 0.8546\n",
      "Epoch 87/100\n",
      "5359/5359 [==============================] - 0s 79us/step - loss: 0.3296 - accuracy: 0.8642 - val_loss: 0.3595 - val_accuracy: 0.8554\n",
      "Epoch 88/100\n",
      "5359/5359 [==============================] - 0s 79us/step - loss: 0.3293 - accuracy: 0.8628 - val_loss: 0.3600 - val_accuracy: 0.8550\n",
      "Epoch 89/100\n",
      "5359/5359 [==============================] - 0s 80us/step - loss: 0.3295 - accuracy: 0.8632 - val_loss: 0.3588 - val_accuracy: 0.8569\n",
      "Epoch 90/100\n",
      "5359/5359 [==============================] - 0s 80us/step - loss: 0.3295 - accuracy: 0.8640 - val_loss: 0.3587 - val_accuracy: 0.8569\n",
      "Epoch 91/100\n",
      "5359/5359 [==============================] - 0s 81us/step - loss: 0.3293 - accuracy: 0.8628 - val_loss: 0.3584 - val_accuracy: 0.8538\n",
      "Epoch 92/100\n",
      "5359/5359 [==============================] - 0s 79us/step - loss: 0.3293 - accuracy: 0.8623 - val_loss: 0.3586 - val_accuracy: 0.8561\n",
      "Epoch 93/100\n",
      "5359/5359 [==============================] - 0s 83us/step - loss: 0.3291 - accuracy: 0.8642 - val_loss: 0.3581 - val_accuracy: 0.8554\n",
      "Epoch 94/100\n",
      "5359/5359 [==============================] - 0s 81us/step - loss: 0.3291 - accuracy: 0.8636 - val_loss: 0.3585 - val_accuracy: 0.8565\n",
      "Epoch 95/100\n",
      "5359/5359 [==============================] - 0s 80us/step - loss: 0.3288 - accuracy: 0.8628 - val_loss: 0.3579 - val_accuracy: 0.8542\n",
      "Epoch 96/100\n",
      "5359/5359 [==============================] - 0s 80us/step - loss: 0.3287 - accuracy: 0.8632 - val_loss: 0.3581 - val_accuracy: 0.8550\n",
      "Epoch 97/100\n",
      "5359/5359 [==============================] - 0s 80us/step - loss: 0.3285 - accuracy: 0.8636 - val_loss: 0.3585 - val_accuracy: 0.8561\n",
      "Epoch 98/100\n",
      "5359/5359 [==============================] - 0s 74us/step - loss: 0.3286 - accuracy: 0.8640 - val_loss: 0.3577 - val_accuracy: 0.8550\n",
      "Epoch 99/100\n",
      "5359/5359 [==============================] - 0s 77us/step - loss: 0.3285 - accuracy: 0.8614 - val_loss: 0.3569 - val_accuracy: 0.8569\n",
      "Epoch 100/100\n",
      "5359/5359 [==============================] - 0s 75us/step - loss: 0.3281 - accuracy: 0.8625 - val_loss: 0.3565 - val_accuracy: 0.8531\n"
     ]
    }
   ],
   "source": [
    "# Fitting the ANN to the Training set\n",
    "model_history=classifier.fit(X_train, y_train,validation_split=0.33, batch_size = 10, nb_epoch = 100)\n"
   ]
  },
  {
   "cell_type": "code",
   "execution_count": 19,
   "metadata": {},
   "outputs": [
    {
     "name": "stdout",
     "output_type": "stream",
     "text": [
      "dict_keys(['val_loss', 'val_accuracy', 'loss', 'accuracy'])\n"
     ]
    },
    {
     "data": {
      "image/png": "[encoded data removed]",
      "text/plain": [
       "<Figure size 432x288 with 1 Axes>"
      ]
     },
     "metadata": {
      "needs_background": "light"
     },
     "output_type": "display_data"
    }
   ],
   "source": [
    "# list all data in history\n",
    "\n",
    "print(model_history.history.keys())\n",
    "# summarize history for accuracy\n",
    "plt.plot(model_history.history['accuracy'])\n",
    "plt.plot(model_history.history['val_accuracy'])\n",
    "plt.title('model accuracy')\n",
    "plt.ylabel('accuracy')\n",
    "plt.xlabel('epoch')\n",
    "plt.legend(['train', 'test'], loc='upper left')\n",
    "plt.show()\n"
   ]
  },
  {
   "cell_type": "code",
   "execution_count": 20,
   "metadata": {},
   "outputs": [
    {
     "data": {
      "image/png": "[encoded data removed]",
      "text/plain": [
       "<Figure size 432x288 with 1 Axes>"
      ]
     },
     "metadata": {
      "needs_background": "light"
     },
     "output_type": "display_data"
    }
   ],
   "source": [
    "# summarize history for loss\n",
    "plt.plot(model_history.history['loss'])\n",
    "plt.plot(model_history.history['val_loss'])\n",
    "plt.title('model loss')\n",
    "plt.ylabel('loss')\n",
    "plt.xlabel('epoch')\n",
    "plt.legend(['train', 'test'], loc='upper left')\n",
    "plt.show()"
   ]
  },
  {
   "cell_type": "code",
   "execution_count": 21,
   "metadata": {},
   "outputs": [],
   "source": [
    "# Part 3 - Making the predictions and evaluating the model\n",
    "\n",
    "# Predicting the Test set results\n",
    "y_pred = classifier.predict(X_test)\n",
    "y_pred = (y_pred > 0.5)\n",
    "\n"
   ]
  },
  {
   "cell_type": "code",
   "execution_count": 22,
   "metadata": {},
   "outputs": [
    {
     "data": {
      "text/plain": [
       "array([[1499,   96],\n",
       "       [ 184,  221]], dtype=int64)"
      ]
     },
     "execution_count": 22,
     "metadata": {},
     "output_type": "execute_result"
    }
   ],
   "source": [
    "# Making the Confusion Matrix\n",
    "from sklearn.metrics import confusion_matrix\n",
    "cm = confusion_matrix(y_test, y_pred)\n",
    "\n",
    "cm"
   ]
  },
  {
   "cell_type": "code",
   "execution_count": 23,
   "metadata": {},
   "outputs": [
    {
     "data": {
      "text/plain": [
       "0.86"
      ]
     },
     "execution_count": 23,
     "metadata": {},
     "output_type": "execute_result"
    }
   ],
   "source": [
    "# Calculate the Accuracy\n",
    "from sklearn.metrics import accuracy_score\n",
    "score=accuracy_score(y_pred,y_test)\n",
    "score"
   ]
  }
 ],
 "metadata": {
  "kernelspec": {
   "display_name": "Python 3",
   "language": "python",
   "name": "python3"
  },
  "language_info": {
   "codemirror_mode": {
    "name": "ipython",
    "version": 3
   },
   "file_extension": ".py",
   "mimetype": "text/x-python",
   "name": "python",
   "nbconvert_exporter": "python",
   "pygments_lexer": "ipython3",
   "version": "3.7.3"
  }
 },
 "nbformat": 4,
 "nbformat_minor": 2
}
